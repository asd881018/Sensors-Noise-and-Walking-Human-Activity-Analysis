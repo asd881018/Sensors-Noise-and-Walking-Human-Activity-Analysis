{
 "cells": [
  {
   "cell_type": "code",
   "execution_count": 1,
   "id": "05f35724",
   "metadata": {},
   "outputs": [],
   "source": [
    "import pandas as pd\n",
    "import numpy as np\n",
    "import matplotlib.pyplot as plt\n",
    "import matplotlib\n",
    "import scipy as sp\n",
    "from scipy import signal"
   ]
  },
  {
   "cell_type": "code",
   "execution_count": 2,
   "id": "bba84012",
   "metadata": {},
   "outputs": [],
   "source": [
    "def read_data_1():\n",
    "    data = pd.read_csv('data/Accelerometer2.csv')\n",
    "    # data = data[data.index % 5 == 0]\n",
    "    data = data[data['seconds_elapsed'] > 1]\n",
    "    data = data[data['seconds_elapsed'] < 60]\n",
    "    \n",
    "    return data"
   ]
  },
  {
   "cell_type": "code",
   "execution_count": 3,
   "id": "9fd9695c",
   "metadata": {},
   "outputs": [],
   "source": [
    "def read_data_2():\n",
    "    data=pd.read_csv('data/Sam_LP_Accelerometer.csv')\n",
    "    data = data[data['seconds_elapsed'] > 31]\n",
    "    data = data[data['seconds_elapsed'] < 91]\n",
    "    return data"
   ]
  },
  {
   "cell_type": "code",
   "execution_count": 4,
   "id": "905d8a07",
   "metadata": {},
   "outputs": [],
   "source": [
    "def butterworth_filter(x, y, z):\n",
    "    b, a = signal.butter(3, 0.1, btype='lowpass', analog=False)\n",
    "\n",
    "    filtered_x = signal.filtfilt(b, a, x)\n",
    "    filtered_y = signal.filtfilt(b, a, y)\n",
    "    filtered_z = signal.filtfilt(b, a, z)\n",
    "    \n",
    "    return filtered_x, filtered_y, filtered_z"
   ]
  },
  {
   "cell_type": "markdown",
   "id": "77270444",
   "metadata": {},
   "source": [
    "### Adapted from https://scipy-cookbook.readthedocs.io/items/ButterworthBandpass.html \n",
    "### Also from https://docs.scipy.org/doc/scipy/reference/generated/scipy.signal.butter.html\n"
   ]
  },
  {
   "cell_type": "code",
   "execution_count": 5,
   "id": "964ea560",
   "metadata": {},
   "outputs": [],
   "source": [
    "# Adapted from https://scipy-cookbook.readthedocs.io/items/ButterworthBandpass.html \n",
    "# Also from https://docs.scipy.org/doc/scipy/reference/generated/scipy.signal.butter.html\n",
    "\n",
    "# Using low = 1 and high = 3 at sample_frequency = 50\n",
    "\n",
    "def bandpass_filter(x, y, z, low, high, sample_frequency):\n",
    "    \n",
    "    nyquist_frequency = 0.5 * sample_frequency\n",
    "    \n",
    "    low = low / nyquist_frequency\n",
    "    high = high / nyquist_frequency\n",
    "    \n",
    "    b , a = signal.butter(3, Wn=[low, high], btype='bandpass')\n",
    "\n",
    "    filtered_x = signal.filtfilt(b, a, x)\n",
    "    filtered_y = signal.filtfilt(b, a, y)\n",
    "    filtered_z = signal.filtfilt(b, a, z)\n",
    "\n",
    "\n",
    "    return filtered_x, filtered_y, filtered_z"
   ]
  },
  {
   "cell_type": "code",
   "execution_count": 6,
   "id": "d6ddb37d",
   "metadata": {},
   "outputs": [],
   "source": [
    "def plot_axis(x, y):\n",
    "    plt.plot(x, y)"
   ]
  },
  {
   "cell_type": "markdown",
   "id": "2310ae82",
   "metadata": {},
   "source": [
    "### # Adapted from https://stackoverflow.com/questions/66675657/fast-fourier-transform-for-an-accelerometer-in-python\n"
   ]
  },
  {
   "cell_type": "code",
   "execution_count": 7,
   "id": "febb3834",
   "metadata": {},
   "outputs": [],
   "source": [
    "def fft(data, axis):\n",
    "    sample_rate = data.shape[0]\n",
    "    seconds = data.iloc[-1, 1]\n",
    "    g = data[axis]\n",
    "    # Adapted from https://stackoverflow.com/questions/66675657/fast-fourier-transform-for-an-accelerometer-in-python\n",
    "    # This returns the fourier transform coeficients as complex numbers\n",
    "    transformed_g = np.fft.fft(g)\n",
    "\n",
    "    # Take the absolute value of the complex numbers for magnitude spectrum\n",
    "    freqs_magnitude = np.abs(transformed_g)\n",
    "\n",
    "    # Create frequency x-axis that will span up to sample_rate\n",
    "    freq_axis = np.linspace(0, sample_rate / seconds, len(freqs_magnitude))\n",
    "\n",
    "    # Plot frequency domain\n",
    "    plt.plot(freq_axis, freqs_magnitude)\n",
    "    plt.xlabel(\"Frequency (Hz)\")\n",
    "    plt.xlim(0, 2)\n",
    "    plt.show()"
   ]
  },
  {
   "cell_type": "code",
   "execution_count": 26,
   "id": "385ded0c",
   "metadata": {},
   "outputs": [],
   "source": [
    "def test(flag):\n",
    "    if flag == 1:\n",
    "        data = read_data_1()\n",
    "        low = 0.5\n",
    "        high = 1.5\n",
    "    else:\n",
    "        data = read_data_2()\n",
    "        low = 0.4\n",
    "        high = 1.2\n",
    "\n",
    "#     print(data)\n",
    "\n",
    "#     plot_axis(data['seconds_elapsed'], data['x'])\n",
    "#     plot_axis(data['seconds_elapsed'], data['y'])\n",
    "#     plot_axis(data['seconds_elapsed'], data['z'])\n",
    "\n",
    "    x = data['x'].values\n",
    "    y = data['y'].values\n",
    "    z = data['z'].values\n",
    "    time = data['seconds_elapsed'].values\n",
    "    \n",
    "    sample_frequency = 50\n",
    "    filtered_x , filtered_y , filtered_z = bandpass_filter(x, y, z, low, high, sample_frequency)\n",
    "\n",
    "    plot_axis(data['seconds_elapsed'], filtered_x)\n",
    "    plot_axis(data['seconds_elapsed'], filtered_y)\n",
    "    plot_axis(data['seconds_elapsed'], filtered_z)\n",
    "\n",
    "\n",
    "    \n",
    "    data['filtered_x'] = filtered_x\n",
    "    data['filtered_y'] = filtered_y\n",
    "    data['filtered_z'] = filtered_z\n",
    "    \n",
    "\n",
    "    fft(data, 'filtered_z')\n"
   ]
  },
  {
   "cell_type": "code",
   "execution_count": 28,
   "id": "9d8716c1",
   "metadata": {},
   "outputs": [
    {
     "data": {
      "image/png": "[encoded data removed]",
      "text/plain": [
       "<Figure size 432x288 with 1 Axes>"
      ]
     },
     "metadata": {
      "needs_background": "light"
     },
     "output_type": "display_data"
    }
   ],
   "source": [
    "test(2)"
   ]
  }
 ],
 "metadata": {
  "kernelspec": {
   "display_name": "Python 3.8.8 64-bit ('base': conda)",
   "language": "python",
   "name": "python388jvsc74a57bd0dfb50981ec9c8fe8715c1d7229ba207fc5361e9ae0ec80ebdf4115df55d4376e"
  },
  "language_info": {
   "codemirror_mode": {
    "name": "ipython",
    "version": 3
   },
   "file_extension": ".py",
   "mimetype": "text/x-python",
   "name": "python",
   "nbconvert_exporter": "python",
   "pygments_lexer": "ipython3",
   "version": "3.8.8"
  }
 },
 "nbformat": 4,
 "nbformat_minor": 5
}
